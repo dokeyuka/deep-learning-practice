{
  "nbformat": 4,
  "nbformat_minor": 0,
  "metadata": {
    "colab": {
      "name": "DL_practice9_w&b.ipynb",
      "provenance": [],
      "authorship_tag": "ABX9TyNzCTWWxxWdIe/5PdpB8iLN",
      "include_colab_link": true
    },
    "kernelspec": {
      "name": "python3",
      "display_name": "Python 3"
    },
    "language_info": {
      "name": "python"
    }
  },
  "cells": [
    {
      "cell_type": "markdown",
      "metadata": {
        "id": "view-in-github",
        "colab_type": "text"
      },
      "source": [
        "<a href=\"https://colab.research.google.com/github/dokeyuka/deep-learning-practice/blob/main/DL_practice9_w%26b.ipynb\" target=\"_parent\"><img src=\"https://colab.research.google.com/assets/colab-badge.svg\" alt=\"Open In Colab\"/></a>"
      ]
    },
    {
      "cell_type": "markdown",
      "source": [
        "# 重みの初期値の設定による効率化\n",
        "## 活性化後も値が散らばっている必要(分散を一定値に保つ)\n",
        "### 1 Heの初期化\n",
        "### 2 Xavierの初期化\n"
      ],
      "metadata": {
        "id": "Kk_dCi0AQkWO"
      }
    },
    {
      "cell_type": "code",
      "source": [
        "#Heの初期化\n",
        "l = nn.Linear(hidden_dim, hidden_dim)\n",
        "nn.init.kaiming_normal_(l.weight)\n",
        "#Xavierの初期化\n",
        "l = nn.Linear(hidden_dim, hidden_dim)\n",
        "nn.init.xavier_normal_(l.weight)"
      ],
      "metadata": {
        "id": "pEPM8gZ0Uzei"
      },
      "execution_count": null,
      "outputs": []
    },
    {
      "cell_type": "code",
      "execution_count": null,
      "metadata": {
        "id": "fGtmBjj0QRF4"
      },
      "outputs": [],
      "source": [
        "\n",
        "\n",
        "class DNN(nn.Module):\n",
        "  def __init__(self, nput_dim, hidden_dim, output_dim):\n",
        "    super().__init__()\n",
        "    self.l1 = nn.Linear(input_dim, hidden_dim)\n",
        "    self.a1 = nn.ReLU()\n",
        "    self.Dropout(0.5)\n",
        "    self.l2 = nn.Linear(hidden_dim, hidden_dim)\n",
        "    self.a2 = nn.ReLU()\n",
        "    self.d2 = nn.Dropout(0.5)\n",
        "    self.l3 = nn.Linear(hidden_dim, hidden_dim)\n",
        "    self.a3 = nn.ReLU()\n",
        "    self.d3 = nn.Dropout(0.5)\n",
        "    selfl4 = nn.Linear(hidden_dim, output_dim)\n",
        "\n",
        "    self.layers = [self.l1, self.a1,self.d1,\n",
        "                   self.l2, self.a3,self.d2,\n",
        "                   self.l3, self.a3,self.d3,\n",
        "                   self.l4]\n",
        "    \n",
        "    #重みの初期化\n",
        "    for layer in self.layers:\n",
        "      #nn.Linearのみが対象\n",
        "      if type(layer) == nn.Linear:\n",
        "        nn.init.kaiming_normal_(layer.weight)"
      ]
    },
    {
      "cell_type": "markdown",
      "source": [
        "# 2 バッチ正規化\n",
        "ミニバッチごと、各層ごとに正規化を行い、安定化を図る"
      ],
      "metadata": {
        "id": "-CrEJcKnXCLV"
      }
    },
    {
      "cell_type": "code",
      "source": [
        "\n",
        "\n",
        "class DNN(nn.Module):\n",
        "  def __init__(self, nput_dim, hidden_dim, output_dim):\n",
        "    super().__init__()\n",
        "    self.l1 = nn.Linear(input_dim, hidden_dim)\n",
        "    self.b1 = nn.BatchNorm1d(hidden_dim)\n",
        "    self.a1 = nn.ReLU()\n",
        "    self.d1 = self.Dropout(0.5)\n",
        "\n",
        "    self.l2 = nn.Linear(hidden_dim, hidden_dim)\n",
        "    self.b2 = nn.BatchNorm1d(hidden_dim)\n",
        "    self.a2 = nn.ReLU()\n",
        "    self.d2 = nn.Dropout(0.5)\n",
        "\n",
        "    self.l3 = nn.Linear(hidden_dim, hidden_dim)\n",
        "    self.b3 = nn.BatchNorm1d(hidden_dim)\n",
        "    self.a3 = nn.ReLU()\n",
        "    self.d3 = nn.Dropout(0.5)\n",
        "\n",
        "    selfl4 = nn.Linear(hidden_dim, output_dim)\n",
        "\n",
        "    self.layers = [self.l1,self.b1, self.a1,self.d1,\n",
        "                   self.l2,self.b2, self.a3,self.d2,\n",
        "                   self.l3,self.b3, self.a3,self.d3,\n",
        "                   self.l4]\n",
        "    \n",
        "    #重みの初期化\n",
        "    for layer in self.layers:\n",
        "      #nn.Linearのみが対象\n",
        "      if type(layer) == nn.Linear:\n",
        "        nn.init.kaiming_normal_(layer.weight)\n",
        "\n",
        "  def forward(self,x):\n",
        "    for layer in self.layers:\n",
        "      x = layer(X)\n",
        "    return x"
      ],
      "metadata": {
        "id": "HIsl2kTtXO29"
      },
      "execution_count": null,
      "outputs": []
    }
  ]
}