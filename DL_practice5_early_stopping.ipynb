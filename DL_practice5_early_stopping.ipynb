{
  "nbformat": 4,
  "nbformat_minor": 0,
  "metadata": {
    "colab": {
      "name": "DL_practice5_early_stopping.ipynb",
      "provenance": [],
      "authorship_tag": "ABX9TyNUJpDlgdmJy5brmeCggpc7",
      "include_colab_link": true
    },
    "kernelspec": {
      "name": "python3",
      "display_name": "Python 3"
    },
    "language_info": {
      "name": "python"
    }
  },
  "cells": [
    {
      "cell_type": "markdown",
      "metadata": {
        "id": "view-in-github",
        "colab_type": "text"
      },
      "source": [
        "<a href=\"https://colab.research.google.com/github/dokeyuka/deep-learning-practice/blob/main/DL_practice5_early_stopping.ipynb\" target=\"_parent\"><img src=\"https://colab.research.google.com/assets/colab-badge.svg\" alt=\"Open In Colab\"/></a>"
      ]
    },
    {
      "cell_type": "markdown",
      "source": [
        "# 早期終了(early_stopping)\n",
        "epoch数を増やしすぎると訓練データにoverfitする<br>\n",
        "→検証データに対する誤差が増えてきたタイミングで打ち切り<br> \n",
        "(一定epoch連続して誤差がそれまでの最小値を下回ることがなければそこで学習を打ち切る)"
      ],
      "metadata": {
        "id": "sYGx0oCITZOd"
      }
    },
    {
      "cell_type": "code",
      "source": [
        "class EarlyStopping:\n",
        "  def __init__(self, patience = 0, verbose = 0):\n",
        "    #self._step 連続で最小値を上回ったepoch数を保持\n",
        "    self._step = 0\n",
        "    #self._loss 誤差の最小値を保持\n",
        "    self._loss = float('inf')\n",
        "    self.patience = patience\n",
        "    self.verbose = verbose\n",
        "  \n",
        "  def __call__(self, loss):\n",
        "    if self._loss < loss:\n",
        "      self._step += 1\n",
        "      if self._step > self.patience:\n",
        "        if self.verbose:\n",
        "          print('early stopping')\n",
        "    else:\n",
        "        self._step = 0\n",
        "        self._loss = loss\n",
        "    return False  \n"
      ],
      "metadata": {
        "id": "Tj6VoLGrUU-O"
      },
      "execution_count": null,
      "outputs": []
    }
  ]
}