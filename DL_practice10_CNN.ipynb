{
  "nbformat": 4,
  "nbformat_minor": 0,
  "metadata": {
    "colab": {
      "name": "DL_practice10_CNN.ipynb",
      "provenance": [],
      "authorship_tag": "ABX9TyPReU3zsfKpqHSJjKM3slTf",
      "include_colab_link": true
    },
    "kernelspec": {
      "name": "python3",
      "display_name": "Python 3"
    },
    "language_info": {
      "name": "python"
    }
  },
  "cells": [
    {
      "cell_type": "markdown",
      "metadata": {
        "id": "view-in-github",
        "colab_type": "text"
      },
      "source": [
        "<a href=\"https://colab.research.google.com/github/dokeyuka/deep-learning-practice/blob/main/DL_practice10_CNN.ipynb\" target=\"_parent\"><img src=\"https://colab.research.google.com/assets/colab-badge.svg\" alt=\"Open In Colab\"/></a>"
      ]
    },
    {
      "cell_type": "markdown",
      "source": [
        "# CNN\n",
        "## Convolution layerとPooling layer\n",
        "## 全結合層の問題点：データの形状が無視される(すべての入力データを1次元データに直す)\n",
        "## Convolution layer：画像なら3次元データをそのまま3次元として入出力\n",
        "## 畳み込み演算、入力データに対してfilterのウィンドウを一定の間隔でスライドさせながら積和演算\n",
        "## →filter適用後バイアス項を加算\n",
        "## 特徴マップ：畳み込み層の入出力データ\n",
        "## 入力特徴マップ、出力特徴マップ\n",
        "\n",
        "---\n",
        "\n"
      ],
      "metadata": {
        "id": "2JjDnGY0eYwR"
      }
    },
    {
      "cell_type": "markdown",
      "source": [
        ""
      ],
      "metadata": {
        "id": "NTNciSJ6iRYM"
      }
    },
    {
      "cell_type": "markdown",
      "source": [
        "# padding\n",
        "## 入力データの周囲に固定のデータを埋めることで出力サイズを調整する"
      ],
      "metadata": {
        "id": "v--FIg5kiH3d"
      }
    }
  ]
}