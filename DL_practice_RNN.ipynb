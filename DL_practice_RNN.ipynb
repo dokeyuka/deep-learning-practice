{
  "nbformat": 4,
  "nbformat_minor": 0,
  "metadata": {
    "colab": {
      "name": "DL_practice_RNN.ipynb",
      "provenance": [],
      "authorship_tag": "ABX9TyMhVGLQlMZ+yh8epsDZG/ki",
      "include_colab_link": true
    },
    "kernelspec": {
      "name": "python3",
      "display_name": "Python 3"
    },
    "language_info": {
      "name": "python"
    },
    "accelerator": "GPU"
  },
  "cells": [
    {
      "cell_type": "markdown",
      "metadata": {
        "id": "view-in-github",
        "colab_type": "text"
      },
      "source": [
        "<a href=\"https://colab.research.google.com/github/dokeyuka/deep-learning-practice/blob/main/DL_practice_RNN.ipynb\" target=\"_parent\"><img src=\"https://colab.research.google.com/assets/colab-badge.svg\" alt=\"Open In Colab\"/></a>"
      ]
    },
    {
      "cell_type": "code",
      "source": [
        ""
      ],
      "metadata": {
        "id": "T-ALvt0XaTdY"
      },
      "execution_count": null,
      "outputs": []
    },
    {
      "cell_type": "markdown",
      "source": [
        "# 時系列データ\n",
        "## オーバーフローを起こさないために\n",
        "## 重みの初期化：直交行列\n",
        "## 活性化関数：ReLUではなくtanh\n",
        "## を用いる"
      ],
      "metadata": {
        "id": "kwFoVXKcQ3Z7"
      }
    },
    {
      "cell_type": "code",
      "execution_count": 8,
      "metadata": {
        "id": "LrD78U-_OTv5",
        "colab": {
          "base_uri": "https://localhost:8080/"
        },
        "outputId": "998ba5b5-f062-4710-cee3-903c815c1311"
      },
      "outputs": [
        {
          "output_type": "stream",
          "name": "stdout",
          "text": [
            "(201,)\n"
          ]
        }
      ],
      "source": [
        "import numpy as np\n",
        "\n",
        "def sin(x, T = 100):\n",
        "  return np.sin(2.0*np.pi*x/T)\n",
        "\n",
        "def toy_problem(T = 100, ampl = 0.05):\n",
        "  x = np.arange(0, 2*T+1)\n",
        "  noise = ampl*np.random.uniform(low = -1.0, high = 1.0, size = len(x))\n",
        "  return sin(x)+noise\n",
        "\n",
        "T = 100\n",
        "f = toy_problem(T).astype(np.float32)\n",
        "print(f.shape)\n",
        "\n",
        "length_of_sequences = len(f)#2T+1"
      ]
    },
    {
      "cell_type": "code",
      "source": [
        "maxlen = 25\n",
        "x = []#input\n",
        "t = []#output\n",
        "\n",
        "print(f[0:0+maxlen])\n",
        "for i in range(length_of_sequences-maxlen):\n",
        "  x.append(f[i:i+maxlen])\n",
        "  t.append(f[i+maxlen])\n",
        "\n",
        "x = np.array(x).reshape(-1,maxlen,1)\n",
        "t = np.array(t).reshape(-1,1)\n",
        "print(x.shape)#行176*列25\n",
        "print(t.shape)#行176*列１\n",
        "#print(t)"
      ],
      "metadata": {
        "colab": {
          "base_uri": "https://localhost:8080/"
        },
        "id": "ztqjY56XaD5h",
        "outputId": "40c55dbd-fbb0-4d6e-9f6b-472aa3013a16"
      },
      "execution_count": 12,
      "outputs": [
        {
          "output_type": "stream",
          "name": "stdout",
          "text": [
            "[-0.03787452  0.06633663  0.10099953  0.15041898  0.21635829  0.28820324\n",
            "  0.39758396  0.4697639   0.44633898  0.5473348   0.612563    0.6581827\n",
            "  0.72137666  0.7038989   0.81368273  0.7876223   0.84826946  0.88365877\n",
            "  0.91569823  0.95036817  0.9423942   0.96353734  0.9989709   1.009194\n",
            "  1.0388076 ]\n",
            "(176, 25, 1)\n",
            "(176, 1)\n"
          ]
        }
      ]
    },
    {
      "cell_type": "code",
      "source": [
        "import torch.nn as nn\n",
        "import torch.nn.functional as F\n",
        "import torch\n",
        "import os\n",
        "import numpy as np\n",
        "from sklearn.metrics import accuracy_score\n",
        "import torch.optim as optimizers\n",
        "from torchvision import datasets\n",
        "import torchvision.transforms as transforms\n",
        "from torch.utils.data import DataLoader\n",
        "from torch.utils.data import random_split\n",
        "import matplotlib.pyplot as plt\n",
        "from sklearn.model_selection import train_test_split\n",
        "from sklearn.utils import shuffle\n",
        "\n",
        "class EarlyStopping:\n",
        "  def __init__(self, patience = 0, verbose = 0):\n",
        "    #self._step 連続で最小値を上回ったepoch数を保持\n",
        "    self._step = 0\n",
        "    #self._loss 誤差の最小値を保持\n",
        "    self._loss = float('inf')\n",
        "    self.patience = patience\n",
        "    self.verbose = verbose\n",
        "  \n",
        "  def __call__(self, loss):\n",
        "    if self._loss < loss:\n",
        "      self._step += 1\n",
        "      if self._step > self.patience:\n",
        "        if self.verbose:\n",
        "          print('early stopping')\n",
        "          return True\n",
        "    else:\n",
        "        self._step = 0\n",
        "        self._loss = loss\n",
        "    return False  \n",
        "\n",
        "\n",
        "\n",
        "class RNN(nn.Module):\n",
        "  def __init__(self, hidden_dim):\n",
        "    super().__init__()\n",
        "    # batch_first = Trueで(データ数N,　時系列長tau,　入力次元l)の順にデータを与える\n",
        "    self.l1 = nn.RNN(1, hidden_dim, \n",
        "                     nonlinearity = 'tanh',\n",
        "                     batch_first = True)\n",
        "    \n",
        "    self.l2 = nn.Linear(hidden_dim, 1)\n",
        "    \n",
        "    nn.init.xavier_normal_(self.l1.weight_ih_l0)#入力層-隠れ層(input-hidden)の重みの初期化,l0:一つ目の隠れ層\n",
        "    nn.init.orthogonal_(self.l1.weight_hh_l0)#隠れ層-隠れ層(hidden-hidden)の重みの初期化\n",
        "\n",
        "  def forward(self, x):\n",
        "    #戻り値(各時刻における隠れ層の出力、隠れ層の値)\n",
        "    h, _ = self.l1(x)\n",
        "    #出力層には最後の時刻の隠れ層の出力を与える\n",
        "    y = self.l2(h[:,-1])\n",
        "\n",
        "    return y\n",
        "\n",
        "\n",
        "\n",
        "\n",
        "if __name__ == '__main__':\n",
        "  np.random.seed(123)\n",
        "  #torch用の乱数シード\n",
        "  torch.manual_seed(123)\n",
        "\n",
        "  #deviceに実行環境を格納して同じコードでCPUでもGPUでも対応できるように\n",
        "  device = torch.device('cuda' if torch.cuda.is_available() else 'cpu')\n",
        "\n",
        "'''\n",
        "  1 データの準備\n",
        "'''\n",
        "maxlen = 25\n",
        "x = []\n",
        "t = []\n",
        "for i in range(length_of_sequences-maxlen):\n",
        "  x.append(f[i:i+maxlen])\n",
        "  t.append(f[i+maxlen])\n",
        "\n",
        "x = np.array(x).reshape(-1,maxlen,1)\n",
        "t = np.array(t).reshape(-1,1)\n",
        "\n",
        "#時系列順にするためshuffle = False\n",
        "x_train, x_val, t_train, t_val = train_test_split(x,t,test_size = 0.2, shuffle = False)\n",
        "\n",
        "\n",
        "\n",
        "'''\n",
        "2 modelの構築\n",
        "'''\n",
        "#隠れ層の次元50\n",
        "model = RNN(50).to(device)\n",
        "\n",
        "'''\n",
        "3 modelの学習\n",
        "'''\n",
        "#平均2乗誤差(ばっちごとの平均なのでreduction = mean)\n",
        "criterion = nn.MSELoss(reduction = 'mean')\n",
        "optimizer = optimizers.Adam(model.parameters(),\n",
        "                            lr = 0.001,\n",
        "                            betas = (0.9,0.999),\n",
        "                            amsgrad = True)\n",
        "def compute_loss(t,y):\n",
        "  return criterion(y, t)\n",
        "\n",
        "def train_step(x,t):\n",
        "  x = torch.Tensor(x).to(device)\n",
        "  t = torch.Tensor(t).to(device)\n",
        "  model.train()\n",
        "  preds = model(x)\n",
        "  loss = compute_loss(t, preds)\n",
        "  optimizer.zero_grad()\n",
        "  loss.backward()\n",
        "  optimizer.step()\n",
        "  return loss, preds\n",
        "\n",
        "def val_step(x,t):\n",
        "  x = torch.Tensor(x).to(device)\n",
        "  t = torch.Tensor(t).to(device)\n",
        "  model.eval()\n",
        "  preds = model(x)\n",
        "  loss = criterion(preds,t)\n",
        "  return loss, preds\n",
        "\n",
        "epochs = 1000\n",
        "batch_size = 100\n",
        "n_batches_train = x_train.shape[0]//batch_size +1\n",
        "print(n_batches_train)\n",
        "n_batches_val = x_val.shape[0]//batch_size + 1\n",
        "hist = {'loss':[], 'val_loss':[]}\n",
        "es = EarlyStopping(patience = 10, verbose = 1)\n",
        "\n",
        "for epoch in range(epochs):\n",
        "  train_loss = 0.\n",
        "  val_loss = 0.\n",
        "  x_, t_ = shuffle(x_train, t_train) \n",
        "\n",
        "  for batch in range(n_batches_train):\n",
        "    start = batch*batch_size\n",
        "    end = start + batch_size\n",
        "    loss, _ = train_step(x_[start:end], t_[start:end])\n",
        "    train_loss += loss.item()\n",
        "\n",
        "  for batch in range(n_batches_val):\n",
        "    start = batch*batch_size\n",
        "    end = start + batch_size\n",
        "    loss, _ = val_step(x_val[start:end], t_val[start:end])\n",
        "    val_loss += loss.item()\n",
        "\n",
        "  train_loss /= n_batches_train\n",
        "  val_loss /= n_batches_val\n",
        "\n",
        "  hist['loss'].append(train_loss)\n",
        "  hist['val_loss'].append(val_loss)\n",
        "\n",
        "  print('epoch:{}, loss:{:.3}, val_loss:{:.3f}'.format(\n",
        "      epoch+1,\n",
        "      train_loss,\n",
        "      val_loss\n",
        "  ))\n",
        "\n",
        "  if es(val_loss):\n",
        "    break\n",
        "\n",
        "\n",
        "'''\n",
        "  4 モデルの評価\n",
        "'''\n",
        "model.eval()\n",
        "\n",
        "#sin波の予測\n",
        "sin_wave = toy_problem(T, ampl = 0.)\n",
        "gen = [None for i in range(maxlen)]\n",
        "z = x[:1]\n",
        "\n",
        "for i in range(length_of_sequences - maxlen):\n",
        "  z_ = torch.Tensor(z[-1:]).to(device)\n",
        "  preds = model(z_).data.cpu().numpy()\n",
        "  z = np.append(z, preds)[1:]\n",
        "  z = z.reshape(-1, maxlen, 1)\n",
        "  gen.append(preds[0,0])\n",
        "\n",
        "\n",
        "\n",
        "\n",
        "\n",
        "\n"
      ],
      "metadata": {
        "colab": {
          "base_uri": "https://localhost:8080/",
          "height": 1000
        },
        "id": "fSDzAYw8SVdW",
        "outputId": "cbee4488-abfb-408d-8f87-c172477731ad"
      },
      "execution_count": 30,
      "outputs": [
        {
          "output_type": "stream",
          "name": "stdout",
          "text": [
            "2\n",
            "epoch:1, loss:0.556, val_loss:0.649\n",
            "epoch:2, loss:0.429, val_loss:0.553\n",
            "epoch:3, loss:0.352, val_loss:0.488\n",
            "epoch:4, loss:0.28, val_loss:0.399\n",
            "epoch:5, loss:0.226, val_loss:0.279\n",
            "epoch:6, loss:0.156, val_loss:0.168\n",
            "epoch:7, loss:0.113, val_loss:0.097\n",
            "epoch:8, loss:0.0694, val_loss:0.062\n",
            "epoch:9, loss:0.0571, val_loss:0.049\n",
            "epoch:10, loss:0.0383, val_loss:0.041\n",
            "epoch:11, loss:0.0265, val_loss:0.031\n",
            "epoch:12, loss:0.0228, val_loss:0.022\n",
            "epoch:13, loss:0.0234, val_loss:0.022\n",
            "epoch:14, loss:0.025, val_loss:0.025\n",
            "epoch:15, loss:0.0227, val_loss:0.022\n",
            "epoch:16, loss:0.0203, val_loss:0.015\n",
            "epoch:17, loss:0.0183, val_loss:0.013\n",
            "epoch:18, loss:0.0167, val_loss:0.016\n",
            "epoch:19, loss:0.0147, val_loss:0.017\n",
            "epoch:20, loss:0.0143, val_loss:0.016\n",
            "epoch:21, loss:0.013, val_loss:0.013\n",
            "epoch:22, loss:0.0125, val_loss:0.012\n",
            "epoch:23, loss:0.0104, val_loss:0.011\n",
            "epoch:24, loss:0.00949, val_loss:0.012\n",
            "epoch:25, loss:0.00824, val_loss:0.012\n",
            "epoch:26, loss:0.0075, val_loss:0.012\n",
            "epoch:27, loss:0.00735, val_loss:0.012\n",
            "epoch:28, loss:0.00645, val_loss:0.011\n",
            "epoch:29, loss:0.00623, val_loss:0.011\n",
            "epoch:30, loss:0.00544, val_loss:0.011\n",
            "epoch:31, loss:0.00601, val_loss:0.010\n",
            "epoch:32, loss:0.00474, val_loss:0.010\n",
            "epoch:33, loss:0.00494, val_loss:0.009\n",
            "epoch:34, loss:0.00442, val_loss:0.008\n",
            "epoch:35, loss:0.00407, val_loss:0.008\n",
            "epoch:36, loss:0.00348, val_loss:0.007\n",
            "epoch:37, loss:0.00328, val_loss:0.006\n",
            "epoch:38, loss:0.00305, val_loss:0.005\n",
            "epoch:39, loss:0.00265, val_loss:0.005\n",
            "epoch:40, loss:0.00234, val_loss:0.004\n",
            "epoch:41, loss:0.00227, val_loss:0.004\n",
            "epoch:42, loss:0.00207, val_loss:0.003\n",
            "epoch:43, loss:0.00178, val_loss:0.003\n",
            "epoch:44, loss:0.00193, val_loss:0.003\n",
            "epoch:45, loss:0.00164, val_loss:0.003\n",
            "epoch:46, loss:0.00164, val_loss:0.002\n",
            "epoch:47, loss:0.00166, val_loss:0.002\n",
            "epoch:48, loss:0.00149, val_loss:0.002\n",
            "epoch:49, loss:0.00139, val_loss:0.002\n",
            "epoch:50, loss:0.00136, val_loss:0.002\n",
            "epoch:51, loss:0.00135, val_loss:0.002\n",
            "epoch:52, loss:0.00119, val_loss:0.002\n",
            "epoch:53, loss:0.00146, val_loss:0.002\n",
            "epoch:54, loss:0.00137, val_loss:0.002\n",
            "epoch:55, loss:0.00136, val_loss:0.002\n",
            "epoch:56, loss:0.0013, val_loss:0.001\n",
            "epoch:57, loss:0.00137, val_loss:0.001\n",
            "epoch:58, loss:0.00129, val_loss:0.001\n",
            "epoch:59, loss:0.00134, val_loss:0.001\n",
            "epoch:60, loss:0.00126, val_loss:0.001\n",
            "epoch:61, loss:0.00128, val_loss:0.001\n",
            "epoch:62, loss:0.00135, val_loss:0.001\n",
            "epoch:63, loss:0.00132, val_loss:0.001\n",
            "epoch:64, loss:0.00127, val_loss:0.001\n",
            "epoch:65, loss:0.00128, val_loss:0.001\n",
            "epoch:66, loss:0.00125, val_loss:0.001\n",
            "epoch:67, loss:0.00117, val_loss:0.001\n",
            "epoch:68, loss:0.00142, val_loss:0.001\n",
            "epoch:69, loss:0.00126, val_loss:0.001\n",
            "epoch:70, loss:0.00133, val_loss:0.001\n",
            "epoch:71, loss:0.0012, val_loss:0.001\n",
            "epoch:72, loss:0.00122, val_loss:0.001\n",
            "epoch:73, loss:0.00128, val_loss:0.001\n",
            "epoch:74, loss:0.00135, val_loss:0.001\n",
            "epoch:75, loss:0.00126, val_loss:0.001\n",
            "epoch:76, loss:0.00136, val_loss:0.001\n",
            "epoch:77, loss:0.00114, val_loss:0.001\n",
            "epoch:78, loss:0.00129, val_loss:0.001\n",
            "epoch:79, loss:0.00127, val_loss:0.001\n",
            "epoch:80, loss:0.0012, val_loss:0.001\n",
            "epoch:81, loss:0.00129, val_loss:0.001\n",
            "epoch:82, loss:0.00119, val_loss:0.001\n",
            "epoch:83, loss:0.00123, val_loss:0.001\n",
            "epoch:84, loss:0.00116, val_loss:0.001\n",
            "epoch:85, loss:0.00117, val_loss:0.001\n",
            "epoch:86, loss:0.00114, val_loss:0.001\n",
            "epoch:87, loss:0.00127, val_loss:0.001\n",
            "epoch:88, loss:0.00119, val_loss:0.001\n",
            "epoch:89, loss:0.00125, val_loss:0.001\n",
            "epoch:90, loss:0.00124, val_loss:0.001\n",
            "epoch:91, loss:0.00116, val_loss:0.001\n",
            "epoch:92, loss:0.00113, val_loss:0.001\n",
            "epoch:93, loss:0.00136, val_loss:0.001\n",
            "epoch:94, loss:0.00119, val_loss:0.001\n",
            "epoch:95, loss:0.00123, val_loss:0.001\n",
            "epoch:96, loss:0.00121, val_loss:0.001\n",
            "epoch:97, loss:0.00113, val_loss:0.001\n",
            "epoch:98, loss:0.00135, val_loss:0.001\n",
            "epoch:99, loss:0.00126, val_loss:0.001\n",
            "epoch:100, loss:0.00134, val_loss:0.001\n",
            "epoch:101, loss:0.0013, val_loss:0.001\n",
            "epoch:102, loss:0.00122, val_loss:0.001\n",
            "epoch:103, loss:0.00119, val_loss:0.001\n",
            "epoch:104, loss:0.00121, val_loss:0.001\n",
            "epoch:105, loss:0.00117, val_loss:0.001\n",
            "epoch:106, loss:0.00117, val_loss:0.001\n",
            "epoch:107, loss:0.00107, val_loss:0.001\n",
            "epoch:108, loss:0.00108, val_loss:0.001\n",
            "early stopping\n"
          ]
        },
        {
          "output_type": "error",
          "ename": "TypeError",
          "evalue": "ignored",
          "traceback": [
            "\u001b[0;31m---------------------------------------------------------------------------\u001b[0m",
            "\u001b[0;31mTypeError\u001b[0m                                 Traceback (most recent call last)",
            "\u001b[0;32m<ipython-input-30-fc8c92139752>\u001b[0m in \u001b[0;36m<module>\u001b[0;34m()\u001b[0m\n\u001b[1;32m    171\u001b[0m \u001b[0;34m\u001b[0m\u001b[0m\n\u001b[1;32m    172\u001b[0m \u001b[0;31m#sin波の予測\u001b[0m\u001b[0;34m\u001b[0m\u001b[0;34m\u001b[0m\u001b[0;34m\u001b[0m\u001b[0m\n\u001b[0;32m--> 173\u001b[0;31m \u001b[0msin_wave\u001b[0m \u001b[0;34m=\u001b[0m \u001b[0mtoy_problem\u001b[0m\u001b[0;34m(\u001b[0m\u001b[0mT\u001b[0m\u001b[0;34m,\u001b[0m \u001b[0mampl\u001b[0m \u001b[0;34m=\u001b[0m \u001b[0;36m0.\u001b[0m\u001b[0;34m)\u001b[0m\u001b[0;34m\u001b[0m\u001b[0;34m\u001b[0m\u001b[0m\n\u001b[0m\u001b[1;32m    174\u001b[0m \u001b[0mgen\u001b[0m \u001b[0;34m=\u001b[0m \u001b[0;34m[\u001b[0m\u001b[0;32mNone\u001b[0m \u001b[0;32mfor\u001b[0m \u001b[0mi\u001b[0m \u001b[0;32min\u001b[0m \u001b[0mrange\u001b[0m\u001b[0;34m(\u001b[0m\u001b[0mmaxlen\u001b[0m\u001b[0;34m)\u001b[0m\u001b[0;34m]\u001b[0m\u001b[0;34m\u001b[0m\u001b[0;34m\u001b[0m\u001b[0m\n\u001b[1;32m    175\u001b[0m \u001b[0mz\u001b[0m \u001b[0;34m=\u001b[0m \u001b[0mx\u001b[0m\u001b[0;34m[\u001b[0m\u001b[0;34m:\u001b[0m\u001b[0;36m1\u001b[0m\u001b[0;34m]\u001b[0m\u001b[0;34m\u001b[0m\u001b[0;34m\u001b[0m\u001b[0m\n",
            "\u001b[0;32m<ipython-input-8-c8390c50d562>\u001b[0m in \u001b[0;36mtoy_problem\u001b[0;34m(T, ampl)\u001b[0m\n\u001b[1;32m      7\u001b[0m   \u001b[0mx\u001b[0m \u001b[0;34m=\u001b[0m \u001b[0mnp\u001b[0m\u001b[0;34m.\u001b[0m\u001b[0marange\u001b[0m\u001b[0;34m(\u001b[0m\u001b[0;36m0\u001b[0m\u001b[0;34m,\u001b[0m \u001b[0;36m2\u001b[0m\u001b[0;34m*\u001b[0m\u001b[0mT\u001b[0m\u001b[0;34m+\u001b[0m\u001b[0;36m1\u001b[0m\u001b[0;34m)\u001b[0m\u001b[0;34m\u001b[0m\u001b[0;34m\u001b[0m\u001b[0m\n\u001b[1;32m      8\u001b[0m   \u001b[0mnoise\u001b[0m \u001b[0;34m=\u001b[0m \u001b[0mampl\u001b[0m\u001b[0;34m*\u001b[0m\u001b[0mnp\u001b[0m\u001b[0;34m.\u001b[0m\u001b[0mrandom\u001b[0m\u001b[0;34m.\u001b[0m\u001b[0muniform\u001b[0m\u001b[0;34m(\u001b[0m\u001b[0mlow\u001b[0m \u001b[0;34m=\u001b[0m \u001b[0;34m-\u001b[0m\u001b[0;36m1.0\u001b[0m\u001b[0;34m,\u001b[0m \u001b[0mhigh\u001b[0m \u001b[0;34m=\u001b[0m \u001b[0;36m1.0\u001b[0m\u001b[0;34m,\u001b[0m \u001b[0msize\u001b[0m \u001b[0;34m=\u001b[0m \u001b[0mlen\u001b[0m\u001b[0;34m(\u001b[0m\u001b[0mx\u001b[0m\u001b[0;34m)\u001b[0m\u001b[0;34m)\u001b[0m\u001b[0;34m\u001b[0m\u001b[0;34m\u001b[0m\u001b[0m\n\u001b[0;32m----> 9\u001b[0;31m   \u001b[0;32mreturn\u001b[0m \u001b[0msin\u001b[0m\u001b[0;34m(\u001b[0m\u001b[0mx\u001b[0m\u001b[0;34m)\u001b[0m\u001b[0;34m+\u001b[0m\u001b[0mnoise\u001b[0m\u001b[0;34m\u001b[0m\u001b[0;34m\u001b[0m\u001b[0m\n\u001b[0m\u001b[1;32m     10\u001b[0m \u001b[0;34m\u001b[0m\u001b[0m\n\u001b[1;32m     11\u001b[0m \u001b[0mT\u001b[0m \u001b[0;34m=\u001b[0m \u001b[0;36m100\u001b[0m\u001b[0;34m\u001b[0m\u001b[0;34m\u001b[0m\u001b[0m\n",
            "\u001b[0;31mTypeError\u001b[0m: 'numpy.ndarray' object is not callable"
          ]
        }
      ]
    },
    {
      "cell_type": "code",
      "source": [
        "print(z.shape)"
      ],
      "metadata": {
        "id": "psmfuV13T-n_",
        "colab": {
          "base_uri": "https://localhost:8080/"
        },
        "outputId": "c94ccd09-d389-402e-a5f6-81b327086159"
      },
      "execution_count": 18,
      "outputs": [
        {
          "output_type": "stream",
          "name": "stdout",
          "text": [
            "(1, 25, 1)\n"
          ]
        }
      ]
    },
    {
      "cell_type": "code",
      "source": [
        "fig = plt.figure()\n",
        "plt.plot(gen, '.', label = 'prediction')\n",
        "plt.plot(sin, '.', alpha = 0.5,label =  'sin')\n",
        "plt.legend()"
      ],
      "metadata": {
        "id": "6ODpXOVwi1aL",
        "outputId": "4f1c9da9-11b0-44e0-d281-8f0e77f58974",
        "colab": {
          "base_uri": "https://localhost:8080/",
          "height": 283
        }
      },
      "execution_count": 28,
      "outputs": [
        {
          "output_type": "execute_result",
          "data": {
            "text/plain": [
              "<matplotlib.legend.Legend at 0x7f1e8cf39f50>"
            ]
          },
          "metadata": {},
          "execution_count": 28
        },
        {
          "output_type": "display_data",
          "data": {
            "text/plain": [
              "<Figure size 432x288 with 1 Axes>"
            ],
            "image/png": "[encoded data removed]"
          },
          "metadata": {
            "needs_background": "light"
          }
        }
      ]
    },
    {
      "cell_type": "code",
      "source": [
        ""
      ],
      "metadata": {
        "id": "d8XQxrDJi95c"
      },
      "execution_count": null,
      "outputs": []
    }
  ]
}