{
  "nbformat": 4,
  "nbformat_minor": 0,
  "metadata": {
    "colab": {
      "name": "DL_practice_RNN.ipynb",
      "provenance": [],
      "authorship_tag": "ABX9TyM0dSrO7qUvav8RVUtFh2Z9",
      "include_colab_link": true
    },
    "kernelspec": {
      "name": "python3",
      "display_name": "Python 3"
    },
    "language_info": {
      "name": "python"
    }
  },
  "cells": [
    {
      "cell_type": "markdown",
      "metadata": {
        "id": "view-in-github",
        "colab_type": "text"
      },
      "source": [
        "<a href=\"https://colab.research.google.com/github/dokeyuka/deep-learning-practice/blob/main/DL_practice_RNN.ipynb\" target=\"_parent\"><img src=\"https://colab.research.google.com/assets/colab-badge.svg\" alt=\"Open In Colab\"/></a>"
      ]
    },
    {
      "cell_type": "markdown",
      "source": [
        "# 時系列データ\n",
        "## オーバーフローを起こさないために\n",
        "## 重みの初期化：直行行列\n",
        "## 活性化関数：ReLUではなくtanh\n",
        "## を用いる"
      ],
      "metadata": {
        "id": "kwFoVXKcQ3Z7"
      }
    },
    {
      "cell_type": "code",
      "execution_count": 1,
      "metadata": {
        "id": "LrD78U-_OTv5"
      },
      "outputs": [],
      "source": [
        "\n",
        "\n",
        "def sin(x, T = 100):\n",
        "  return np.sin(2.0*np.pi*x/T)\n",
        "\n",
        "def toy_problem(T = 100, ampl = 0.05):\n",
        "  x = np.arange(0, 2*T+1)\n",
        "  noise = ampl*np.random.uniform(low = -1.0, high = 1.0, size = len(x))\n",
        "  return sin(x)+noise\n",
        "\n",
        "T = 100\n",
        "f = toy_problem(T).astype(np.float32)\n",
        "\n",
        "length_of_sequences = len(f)#2T+1"
      ]
    },
    {
      "cell_type": "code",
      "source": [
        "import torch.nn as nn\n",
        "import torch.nn.functional as F\n",
        "import torch\n",
        "import os\n",
        "import numpy as np\n",
        "from sklearn.metrics import accuracy_score\n",
        "import torch.optim as optimizers\n",
        "from torchvision import datasets\n",
        "import torchvision.transforms as transforms\n",
        "from torch.utils.data import DataLoader\n",
        "from torch.utils.data import random_split\n",
        "import matplotlib.pyplot as plt\n",
        "from sklearn.model_selection import train_test_split\n",
        "from sklearn.utils import shuffle\n",
        "#from callbacks import EarlyStopping\n",
        "\n",
        "\n",
        "\n",
        "class RNN(nn.Module):\n",
        "  def __init__(self, hidden_dim):\n",
        "    super().__init__()\n",
        "    # batch_first = Trueで(データ数N,　時系列長tau,　入力次元l)の順にデータを与える\n",
        "    self.l1 = nn.RNN(1, hidden_dim, \n",
        "                     nonlinearity = 'tanh',\n",
        "                     batch_first = True)\n",
        "    \n",
        "    self.l2 = nn.Linear(hidden_dim, 1)\n",
        "    \n",
        "    nn.init.xavier_normal_(self.l1.weight_ih_l0)#入力層-隠れ層(input-hidden)の重みの初期化,l0:一つ目の隠れ層\n",
        "    nn.init.orthogonal_(self.l1.weight_hh_l0)#隠れ層-隠れ層(hidden-hidden)の重みの初期化\n",
        "\n",
        "  def forward(self, x):\n",
        "    #戻り値(各時刻における隠れ層の出力、隠れ層の値)\n",
        "    h, _ = self.l1(x)\n",
        "    #出力層には再gの時刻の隠れ層の出力を与える\n",
        "    y = self.l2(h[:,-1])\n",
        "\n",
        "    return y\n",
        "\n",
        "'''\n",
        "1 modelの構築\n",
        "'''\n",
        "model = RNN(50).to(device)\n",
        "\n",
        "\n",
        "maxlen = 25\n",
        "x = []\n",
        "t = []\n",
        "for i in range(length_of_sequences-maxlen):\n",
        "  x.append(f[i:i+maxlen])\n",
        "  t.append(f[i+maxlen])\n",
        "\n",
        "x = np.array(x).reshape(-1,maxlen,1)\n",
        "t = np.array(t).reshape(-1,1)\n",
        "\n",
        "x_train, x_val, t_train, t_val = train_test_split(x,t,test_size = 0.2, shuffle = False)"
      ],
      "metadata": {
        "colab": {
          "base_uri": "https://localhost:8080/",
          "height": 389
        },
        "id": "fSDzAYw8SVdW",
        "outputId": "b97c32b4-011b-420d-8e77-7efd12395aeb"
      },
      "execution_count": 4,
      "outputs": [
        {
          "output_type": "error",
          "ename": "ModuleNotFoundError",
          "evalue": "ignored",
          "traceback": [
            "\u001b[0;31m---------------------------------------------------------------------------\u001b[0m",
            "\u001b[0;31mModuleNotFoundError\u001b[0m                       Traceback (most recent call last)",
            "\u001b[0;32m<ipython-input-4-50f32fcbc4b7>\u001b[0m in \u001b[0;36m<module>\u001b[0;34m()\u001b[0m\n\u001b[1;32m     13\u001b[0m \u001b[0;32mfrom\u001b[0m \u001b[0msklearn\u001b[0m\u001b[0;34m.\u001b[0m\u001b[0mmodel_selection\u001b[0m \u001b[0;32mimport\u001b[0m \u001b[0mtrain_test_split\u001b[0m\u001b[0;34m\u001b[0m\u001b[0;34m\u001b[0m\u001b[0m\n\u001b[1;32m     14\u001b[0m \u001b[0;32mfrom\u001b[0m \u001b[0msklearn\u001b[0m\u001b[0;34m.\u001b[0m\u001b[0mutils\u001b[0m \u001b[0;32mimport\u001b[0m \u001b[0mshuffle\u001b[0m\u001b[0;34m\u001b[0m\u001b[0;34m\u001b[0m\u001b[0m\n\u001b[0;32m---> 15\u001b[0;31m \u001b[0;32mfrom\u001b[0m \u001b[0mcallbacks\u001b[0m \u001b[0;32mimport\u001b[0m \u001b[0mEarlyStopping\u001b[0m\u001b[0;34m\u001b[0m\u001b[0;34m\u001b[0m\u001b[0m\n\u001b[0m\u001b[1;32m     16\u001b[0m \u001b[0;34m\u001b[0m\u001b[0m\n\u001b[1;32m     17\u001b[0m \u001b[0;34m\u001b[0m\u001b[0m\n",
            "\u001b[0;31mModuleNotFoundError\u001b[0m: No module named 'callbacks'",
            "",
            "\u001b[0;31m---------------------------------------------------------------------------\u001b[0;32m\nNOTE: If your import is failing due to a missing package, you can\nmanually install dependencies using either !pip or !apt.\n\nTo view examples of installing some common dependencies, click the\n\"Open Examples\" button below.\n\u001b[0;31m---------------------------------------------------------------------------\u001b[0m\n"
          ],
          "errorDetails": {
            "actions": [
              {
                "action": "open_url",
                "actionText": "Open Examples",
                "url": "/notebooks/snippets/importing_libraries.ipynb"
              }
            ]
          }
        }
      ]
    },
    {
      "cell_type": "code",
      "source": [
        ""
      ],
      "metadata": {
        "id": "psmfuV13T-n_"
      },
      "execution_count": null,
      "outputs": []
    }
  ]
}