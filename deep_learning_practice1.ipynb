{
  "cells": [
    {
      "cell_type": "markdown",
      "metadata": {
        "id": "view-in-github",
        "colab_type": "text"
      },
      "source": [
        "<a href=\"https://colab.research.google.com/github/dokeyuka/deep-learning-practice/blob/main/deep_learning_practice1.ipynb\" target=\"_parent\"><img src=\"https://colab.research.google.com/assets/colab-badge.svg\" alt=\"Open In Colab\"/></a>"
      ]
    },
    {
      "cell_type": "code",
      "execution_count": 1,
      "metadata": {
        "colab": {
          "base_uri": "https://localhost:8080/"
        },
        "id": "inguHr41saBl",
        "outputId": "fb7f882b-4919-4836-b5b9-1c12d8185170"
      },
      "outputs": [
        {
          "output_type": "stream",
          "name": "stdout",
          "text": [
            "Requirement already satisfied: pip in /usr/local/lib/python3.7/dist-packages (21.1.3)\n",
            "Collecting pip\n",
            "  Downloading pip-22.0.4-py3-none-any.whl (2.1 MB)\n",
            "\u001b[K     |████████████████████████████████| 2.1 MB 5.1 MB/s \n",
            "\u001b[?25hInstalling collected packages: pip\n",
            "  Attempting uninstall: pip\n",
            "    Found existing installation: pip 21.1.3\n",
            "    Uninstalling pip-21.1.3:\n",
            "      Successfully uninstalled pip-21.1.3\n",
            "Successfully installed pip-22.0.4\n",
            "Requirement already satisfied: torch in /usr/local/lib/python3.7/dist-packages (1.10.0+cu111)\n",
            "Requirement already satisfied: typing-extensions in /usr/local/lib/python3.7/dist-packages (from torch) (4.1.1)\n",
            "\u001b[33mWARNING: Running pip as the 'root' user can result in broken permissions and conflicting behaviour with the system package manager. It is recommended to use a virtual environment instead: https://pip.pypa.io/warnings/venv\u001b[0m\u001b[33m\n",
            "\u001b[0m"
          ]
        }
      ],
      "source": [
        "!pip install --upgrade pip\n",
        "!pip install torch \n"
      ]
    },
    {
      "cell_type": "code",
      "execution_count": 2,
      "metadata": {
        "id": "LWNuKlLMsgCT"
      },
      "outputs": [],
      "source": [
        "import torch\n",
        "import torchvision"
      ]
    },
    {
      "cell_type": "markdown",
      "metadata": {
        "id": "sBPjYNp-h7ca"
      },
      "source": [
        "# 1 simple perceptron\n",
        "## (1) model definition"
      ]
    },
    {
      "cell_type": "code",
      "execution_count": 3,
      "metadata": {
        "id": "Jqk2N1L6iBt5"
      },
      "outputs": [],
      "source": [
        "class SimplePerceptron(object):\n",
        "\n",
        "  #入力次元n、パラメータ：重みwとバイアスbの初期化\n",
        "  def __init__(self, input_dim):\n",
        "    self.input_dim = input_dim\n",
        "    self.w = np.random.normal(size= (input_dim, ))\n",
        "    self.b = 0.\n",
        "  \n",
        "  #受け取つた電気信号を次に伝搬\n",
        "  def forward(self, x):\n",
        "    y = step(np.matmul(self.w, x) + self.b)\n",
        "    return y\n",
        "  def compute_deltas(self, x, t):\n",
        "    y = self.forward(x)\n",
        "    delta = y - t\n",
        "    dw = delta * x\n",
        "    db = delta\n",
        "    return dw, db\n",
        "\n",
        "def step(x):\n",
        "    return 1*(x > 0)"
      ]
    },
    {
      "cell_type": "markdown",
      "metadata": {
        "id": "JedB3WDojpBZ"
      },
      "source": [
        "## (2) preparetion of data"
      ]
    },
    {
      "cell_type": "code",
      "execution_count": 4,
      "metadata": {
        "id": "ZCpSBmBAjvcr"
      },
      "outputs": [],
      "source": [
        "import numpy as np\n",
        "\n",
        "#input dimention\n",
        "d = 2\n",
        "#number of data\n",
        "N = 20\n",
        "\n",
        "mean = 5\n",
        "\n",
        "#平均0正規分布に従う10個のデータ\n",
        "x1 = np.random.randn(N//2, d) + np.array([0, 0])\n",
        "#平均5正規分布に従う10個のデータ\n",
        "x2 = np.random.randn(N//2, d) + np.array([mean, mean])\n",
        "\n",
        "#入力データ\n",
        "x = np.concatenate((x1, x2), axis = 0)\n",
        "\n",
        "#出力データ(0,1の配列)\n",
        "t1 = np.zeros(N//2)\n",
        "t2 = np.ones(N//2)\n",
        "t = np.concatenate((t1, t2))\n",
        "\n"
      ]
    },
    {
      "cell_type": "markdown",
      "metadata": {
        "id": "4essML5GlWfH"
      },
      "source": [
        "## (3) モデルの構築"
      ]
    },
    {
      "cell_type": "code",
      "execution_count": 5,
      "metadata": {
        "id": "OiTsncojld28"
      },
      "outputs": [],
      "source": [
        "model = SimplePerceptron(input_dim = d)"
      ]
    },
    {
      "cell_type": "markdown",
      "metadata": {
        "id": "_r0Z6rsnlj8T"
      },
      "source": [
        "## (4) モデルの学習"
      ]
    },
    {
      "cell_type": "code",
      "execution_count": 6,
      "metadata": {
        "id": "DvE5I6R9ludT"
      },
      "outputs": [],
      "source": [
        "def compute_loss(dw, db):\n",
        "  #学習の終了判定のために誤差があるかどうかを返す\n",
        "  return all(dw == 0)*(db == 0)\n",
        "\n",
        "def train_step(x, t):\n",
        "  #データを用いてパラメータを更新\n",
        "  dw, db = model.compute_deltas(x, t)\n",
        "  loss = compute_loss(dw, db)\n",
        "  model.w = model.w - dw\n",
        "  model.b = model.b - db\n",
        "  return loss\n",
        "\n",
        "while True:\n",
        "  classified = True\n",
        "  for i in range(N):\n",
        "    loss = train_step(x[i], t[i])\n",
        "    classified *= loss\n",
        "  if classified:\n",
        "    break\n",
        "\n"
      ]
    },
    {
      "cell_type": "markdown",
      "metadata": {
        "id": "DiDf6bKvnlGb"
      },
      "source": [
        "## (5) モデルの評価"
      ]
    },
    {
      "cell_type": "code",
      "execution_count": 7,
      "metadata": {
        "colab": {
          "base_uri": "https://localhost:8080/"
        },
        "id": "KSxQn8IQnpgS",
        "outputId": "7e811285-2e56-4575-b911-3fff9e634fd1"
      },
      "outputs": [
        {
          "output_type": "stream",
          "name": "stdout",
          "text": [
            "w: [1.13799956 2.52508906]\n",
            "b: -6.0\n"
          ]
        }
      ],
      "source": [
        "print('w:', model.w)\n",
        "print('b:', model.b)\n"
      ]
    },
    {
      "cell_type": "code",
      "execution_count": 8,
      "metadata": {
        "colab": {
          "base_uri": "https://localhost:8080/",
          "height": 283
        },
        "id": "p75q7WbZnyFU",
        "outputId": "f488b64e-1f1c-47bf-8c00-3e62a7cb4fd8"
      },
      "outputs": [
        {
          "output_type": "execute_result",
          "data": {
            "text/plain": [
              "[<matplotlib.lines.Line2D at 0x7f7bc1e38d10>]"
            ]
          },
          "metadata": {},
          "execution_count": 8
        },
        {
          "output_type": "display_data",
          "data": {
            "text/plain": [
              "<Figure size 432x288 with 1 Axes>"
            ],
            "image/png": "[encoded data removed]"
          },
          "metadata": {
            "needs_background": "light"
          }
        }
      ],
      "source": [
        "from matplotlib import pyplot as plt\n",
        "s = np.linspace(-4, 8, 100)\n",
        "\n",
        "y = -(model.w[0] *s - 13)/model.w[1]\n",
        "\n",
        "plt.plot(s, y)\n",
        "plt.plot(x[:,0], x[:,1], '.')"
      ]
    },
    {
      "cell_type": "code",
      "execution_count": 9,
      "metadata": {
        "colab": {
          "base_uri": "https://localhost:8080/"
        },
        "id": "GrKXlYbZphyh",
        "outputId": "82a52a11-f34d-4672-b5db-00938c3b0d18"
      },
      "outputs": [
        {
          "output_type": "stream",
          "name": "stdout",
          "text": [
            "(0,0) => 0\n",
            "(5,5) => 1\n"
          ]
        }
      ],
      "source": [
        "\n",
        "print('(0,0) =>', model.forward([0, 0]))\n",
        "print('(5,5) =>', model.forward([5, 5]))\n"
      ]
    },
    {
      "cell_type": "code",
      "execution_count": null,
      "metadata": {
        "id": "OL1iOJDUqQaM"
      },
      "outputs": [],
      "source": [
        ""
      ]
    }
  ],
  "metadata": {
    "accelerator": "GPU",
    "colab": {
      "name": "deep_learning_practice1.ipynb",
      "provenance": [],
      "authorship_tag": "ABX9TyM8a1/dmOchv5VFQeVLUoSs",
      "include_colab_link": true
    },
    "kernelspec": {
      "display_name": "Python 3",
      "name": "python3"
    },
    "language_info": {
      "name": "python"
    }
  },
  "nbformat": 4,
  "nbformat_minor": 0
}