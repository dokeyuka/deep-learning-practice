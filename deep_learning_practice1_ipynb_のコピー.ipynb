{
  "cells": [
    {
      "cell_type": "markdown",
      "metadata": {
        "id": "view-in-github",
        "colab_type": "text"
      },
      "source": [
        "<a href=\"https://colab.research.google.com/github/dokeyuka/deep-learning-practice/blob/main/deep_learning_practice1_ipynb_%E3%81%AE%E3%82%B3%E3%83%94%E3%83%BC.ipynb\" target=\"_parent\"><img src=\"https://colab.research.google.com/assets/colab-badge.svg\" alt=\"Open In Colab\"/></a>"
      ]
    },
    {
      "cell_type": "code",
      "execution_count": null,
      "metadata": {
        "colab": {
          "base_uri": "https://localhost:8080/"
        },
        "id": "inguHr41saBl",
        "outputId": "fb7f882b-4919-4836-b5b9-1c12d8185170"
      },
      "outputs": [
        {
          "output_type": "stream",
          "name": "stdout",
          "text": [
            "Requirement already satisfied: pip in /usr/local/lib/python3.7/dist-packages (21.1.3)\n",
            "Collecting pip\n",
            "  Downloading pip-22.0.4-py3-none-any.whl (2.1 MB)\n",
            "\u001b[K     |████████████████████████████████| 2.1 MB 5.1 MB/s \n",
            "\u001b[?25hInstalling collected packages: pip\n",
            "  Attempting uninstall: pip\n",
            "    Found existing installation: pip 21.1.3\n",
            "    Uninstalling pip-21.1.3:\n",
            "      Successfully uninstalled pip-21.1.3\n",
            "Successfully installed pip-22.0.4\n",
            "Requirement already satisfied: torch in /usr/local/lib/python3.7/dist-packages (1.10.0+cu111)\n",
            "Requirement already satisfied: typing-extensions in /usr/local/lib/python3.7/dist-packages (from torch) (4.1.1)\n",
            "\u001b[33mWARNING: Running pip as the 'root' user can result in broken permissions and conflicting behaviour with the system package manager. It is recommended to use a virtual environment instead: https://pip.pypa.io/warnings/venv\u001b[0m\u001b[33m\n",
            "\u001b[0m"
          ]
        }
      ],
      "source": [
        "!pip install --upgrade pip\n",
        "!pip install torch \n"
      ]
    },
    {
      "cell_type": "code",
      "source": [
        ""
      ],
      "metadata": {
        "id": "fLQOF7rAkldT"
      },
      "execution_count": null,
      "outputs": []
    },
    {
      "cell_type": "code",
      "execution_count": null,
      "metadata": {
        "id": "LWNuKlLMsgCT"
      },
      "outputs": [],
      "source": [
        "import torch\n",
        "import torchvision"
      ]
    },
    {
      "cell_type": "markdown",
      "metadata": {
        "id": "sBPjYNp-h7ca"
      },
      "source": [
        "# 1 simple perceptron\n",
        "## 2値分類・step関数\n",
        "## (1) model definition"
      ]
    },
    {
      "cell_type": "code",
      "execution_count": null,
      "metadata": {
        "id": "Jqk2N1L6iBt5"
      },
      "outputs": [],
      "source": [
        "class SimplePerceptron(object):\n",
        "\n",
        "  #入力次元n、パラメータ：重みwとバイアスbの初期化\n",
        "  def __init__(self, input_dim):\n",
        "    self.input_dim = input_dim\n",
        "    self.w = np.random.normal(size= (input_dim, ))\n",
        "    self.b = 0.\n",
        "  \n",
        "  #受け取つた電気信号を次に伝搬\n",
        "  def forward(self, x):\n",
        "    y = step(np.matmul(self.w, x) + self.b)\n",
        "    return y\n",
        "  def compute_deltas(self, x, t):\n",
        "    y = self.forward(x)\n",
        "    delta = y - t\n",
        "    dw = delta * x\n",
        "    db = delta\n",
        "    return dw, db\n",
        "\n",
        "def step(x):\n",
        "    return 1*(x > 0)"
      ]
    },
    {
      "cell_type": "markdown",
      "metadata": {
        "id": "JedB3WDojpBZ"
      },
      "source": [
        "## (2) preparetion of data"
      ]
    },
    {
      "cell_type": "code",
      "execution_count": null,
      "metadata": {
        "id": "ZCpSBmBAjvcr"
      },
      "outputs": [],
      "source": [
        "import numpy as np\n",
        "\n",
        "#input dimention\n",
        "d = 2\n",
        "#number of data\n",
        "N = 20\n",
        "\n",
        "mean = 5\n",
        "\n",
        "#平均0正規分布に従う10個のデータ\n",
        "x1 = np.random.randn(N//2, d) + np.array([0, 0])\n",
        "#平均5正規分布に従う10個のデータ\n",
        "x2 = np.random.randn(N//2, d) + np.array([mean, mean])\n",
        "\n",
        "#入力データ\n",
        "x = np.concatenate((x1, x2), axis = 0)\n",
        "\n",
        "#出力データ(0,1の配列)\n",
        "t1 = np.zeros(N//2)\n",
        "t2 = np.ones(N//2)\n",
        "t = np.concatenate((t1, t2))\n",
        "\n"
      ]
    },
    {
      "cell_type": "markdown",
      "metadata": {
        "id": "4essML5GlWfH"
      },
      "source": [
        "## (3) モデルの構築"
      ]
    },
    {
      "cell_type": "code",
      "execution_count": null,
      "metadata": {
        "id": "OiTsncojld28"
      },
      "outputs": [],
      "source": [
        "model = SimplePerceptron(input_dim = d)"
      ]
    },
    {
      "cell_type": "markdown",
      "metadata": {
        "id": "_r0Z6rsnlj8T"
      },
      "source": [
        "## (4) モデルの学習"
      ]
    },
    {
      "cell_type": "code",
      "execution_count": null,
      "metadata": {
        "id": "DvE5I6R9ludT"
      },
      "outputs": [],
      "source": [
        "def compute_loss(dw, db):\n",
        "  #学習の終了判定のために誤差があるかどうかを返す\n",
        "  return all(dw == 0)*(db == 0)\n",
        "\n",
        "def train_step(x, t):\n",
        "  #データを用いてパラメータを更新\n",
        "  dw, db = model.compute_deltas(x, t)\n",
        "  loss = compute_loss(dw, db)\n",
        "  model.w = model.w - dw\n",
        "  model.b = model.b - db\n",
        "  return loss\n",
        "\n",
        "while True:\n",
        "  classified = True\n",
        "  for i in range(N):\n",
        "    loss = train_step(x[i], t[i])\n",
        "    classified *= loss\n",
        "  if classified:\n",
        "    break\n",
        "\n"
      ]
    },
    {
      "cell_type": "markdown",
      "metadata": {
        "id": "DiDf6bKvnlGb"
      },
      "source": [
        "## (5) モデルの評価"
      ]
    },
    {
      "cell_type": "code",
      "execution_count": null,
      "metadata": {
        "colab": {
          "base_uri": "https://localhost:8080/"
        },
        "id": "KSxQn8IQnpgS",
        "outputId": "7e811285-2e56-4575-b911-3fff9e634fd1"
      },
      "outputs": [
        {
          "output_type": "stream",
          "name": "stdout",
          "text": [
            "w: [1.13799956 2.52508906]\n",
            "b: -6.0\n"
          ]
        }
      ],
      "source": [
        "print('w:', model.w)\n",
        "print('b:', model.b)\n"
      ]
    },
    {
      "cell_type": "code",
      "execution_count": null,
      "metadata": {
        "colab": {
          "base_uri": "https://localhost:8080/",
          "height": 283
        },
        "id": "p75q7WbZnyFU",
        "outputId": "f488b64e-1f1c-47bf-8c00-3e62a7cb4fd8"
      },
      "outputs": [
        {
          "output_type": "execute_result",
          "data": {
            "text/plain": [
              "[<matplotlib.lines.Line2D at 0x7f7bc1e38d10>]"
            ]
          },
          "metadata": {},
          "execution_count": 8
        },
        {
          "output_type": "display_data",
          "data": {
            "text/plain": [
              "<Figure size 432x288 with 1 Axes>"
            ],
            "image/png": "[encoded data removed]"
          },
          "metadata": {
            "needs_background": "light"
          }
        }
      ],
      "source": [
        "from matplotlib import pyplot as plt\n",
        "s = np.linspace(-4, 8, 100)\n",
        "\n",
        "y = -(model.w[0] *s - 13)/model.w[1]\n",
        "\n",
        "plt.plot(s, y)\n",
        "plt.plot(x[:,0], x[:,1], '.')"
      ]
    },
    {
      "cell_type": "code",
      "execution_count": null,
      "metadata": {
        "colab": {
          "base_uri": "https://localhost:8080/"
        },
        "id": "GrKXlYbZphyh",
        "outputId": "82a52a11-f34d-4672-b5db-00938c3b0d18"
      },
      "outputs": [
        {
          "output_type": "stream",
          "name": "stdout",
          "text": [
            "(0,0) => 0\n",
            "(5,5) => 1\n"
          ]
        }
      ],
      "source": [
        "\n",
        "print('(0,0) =>', model.forward([0, 0]))\n",
        "print('(5,5) =>', model.forward([5, 5]))\n"
      ]
    },
    {
      "cell_type": "code",
      "execution_count": null,
      "metadata": {
        "id": "OL1iOJDUqQaM"
      },
      "outputs": [],
      "source": [
        ""
      ]
    },
    {
      "cell_type": "markdown",
      "source": [
        "# 2 Logistic Regression\n",
        "## 2値分類・sigmoid関数(出力：確率)"
      ],
      "metadata": {
        "id": "jzKcTQc2ztng"
      }
    },
    {
      "cell_type": "code",
      "source": [
        ""
      ],
      "metadata": {
        "id": "eIHdznsU0_Fc"
      },
      "execution_count": null,
      "outputs": []
    },
    {
      "cell_type": "markdown",
      "source": [
        "# 3 Multi Logistic Regression\n",
        "## 多クラス分類・softmax関数\n"
      ],
      "metadata": {
        "id": "3g3ivcWr1D5e"
      }
    },
    {
      "cell_type": "markdown",
      "source": [
        "## (1)モデルの実装"
      ],
      "metadata": {
        "id": "SPqs3oA83Hlo"
      }
    },
    {
      "cell_type": "code",
      "source": [
        "import numpy as np\n",
        "from sklearn.utils import shuffle\n",
        "\n",
        "class LogisticRegression(object):\n",
        "  def __init__(self, input_dim, output_dim):\n",
        "    self.input_dim = input_dim\n",
        "    self.w = np.random.normal(size = (input_dim, output_dim))\n",
        "    self.b = np.zeros(output_dim)\n",
        "\n",
        "  def __call__(self, x):\n",
        "    return self.forward(x)\n",
        "  \n",
        "  def forward(self, x):\n",
        "    return softmax(np.matmul(x, self.w) + self.b)\n",
        "\n",
        "  def compute_gradients(self, x, t):\n",
        "    y = self.forward(x)\n",
        "    delta = y - t\n",
        "    dw = np.matmul(x.T, delta)\n",
        "    db = np.matmul(np.ones(x.shape[0]), delta)\n",
        "    return dw, db\n",
        "\n",
        "def softmax(x):\n",
        "  return np.exp(x) / np.sum(np.exp(x), axis = 1, keepdims = True)\n",
        "\n",
        "  \n"
      ],
      "metadata": {
        "id": "d7VHk1eD1Wvb"
      },
      "execution_count": null,
      "outputs": []
    },
    {
      "cell_type": "markdown",
      "source": [
        "## (2) data準備 "
      ],
      "metadata": {
        "id": "jXiKeHiY4mYp"
      }
    },
    {
      "cell_type": "code",
      "source": [
        "from matplotlib import pyplot as plt\n",
        "\n",
        "#入力データの次元\n",
        "M = 2 \n",
        "#出力データの次元\n",
        "K = 3\n",
        "#クラスごとのデータ数\n",
        "n = 100\n",
        "#全データ数\n",
        "N = n * K\n",
        "\n",
        "#100×２\n",
        "x1 = np.random.randn(n, M) + np.array([0,10])\n",
        "#print(x1)\n",
        "x2 = np.random.randn(n, M) + np.array([5,5])\n",
        "x3 = np.random.randn(n, M) + np.array([10,0])\n",
        "\n",
        "t1 = np.array([[1,0,0] for i in range(n)])\n",
        "t2 = np.array([[0,1,0] for i in range(n)])\n",
        "t3 = np.array([[0,0,1] for i in range(n)])\n",
        "\n",
        "x = np.concatenate((x1,x2,x3),axis = 0)\n",
        "t = np.concatenate((t1,t2,t3), axis = 0)\n",
        "\n",
        "\n",
        "\n",
        "#visualization\n",
        "plt.plot(x[:,0], x[:,1], ',')\n"
      ],
      "metadata": {
        "colab": {
          "base_uri": "https://localhost:8080/",
          "height": 283
        },
        "id": "U-8n9EuH4laJ",
        "outputId": "b7b158c5-710c-4a6d-fac5-64c1576366dd"
      },
      "execution_count": null,
      "outputs": [
        {
          "output_type": "execute_result",
          "data": {
            "text/plain": [
              "[<matplotlib.lines.Line2D at 0x7f7bb0cd35d0>]"
            ]
          },
          "metadata": {},
          "execution_count": 33
        },
        {
          "output_type": "display_data",
          "data": {
            "text/plain": [
              "<Figure size 432x288 with 1 Axes>"
            ],
            "image/png": "[encoded data removed]"
          },
          "metadata": {
            "needs_background": "light"
          }
        }
      ]
    },
    {
      "cell_type": "markdown",
      "source": [
        "## (3)モデルの構築"
      ],
      "metadata": {
        "id": "DmW-HoLG6oC9"
      }
    },
    {
      "cell_type": "code",
      "source": [
        "model = LogisticRegression(input_dim = M, output_dim = K)\n"
      ],
      "metadata": {
        "id": "mB0Mn3GH5oKL"
      },
      "execution_count": null,
      "outputs": []
    },
    {
      "cell_type": "markdown",
      "source": [
        "## (4) モデルの学習\n",
        "### ミニバッチ学習\n",
        "データをシャッフル→ミニバッチに分割→勾配降下法"
      ],
      "metadata": {
        "id": "-GApbk_O62aR"
      }
    },
    {
      "cell_type": "code",
      "source": [
        "def compute_loss(t, y):\n",
        "  return (-t*np.log(y)).sum(axis = 1).mean()\n",
        "\n",
        "def train_step(x,t):\n",
        "  dw, db = model.compute_gradients(x,t)\n",
        "  model.w = model.w - 0.1*dw\n",
        "  model.b = model.b - 0.1*db\n",
        "  loss = compute_loss(t, model(x))\n",
        "  return loss\n",
        "\n",
        "epochs = 10\n",
        "batch_size = 50\n",
        "#行数(x.shape[0] == 300)\n",
        "n_batches = x.shape[0] // batch_size\n",
        "print(n_batches)\n",
        "\n",
        "for epoch in range(epochs):\n",
        "  train_loss = 0.\n",
        "  #全データをシャッフル\n",
        "  x_, t_ = shuffle(x,t)\n",
        "\n",
        "  for n_batch in range(n_batches):\n",
        "    start = n_batch * batch_size\n",
        "    end = start + batch_size \n",
        "\n",
        "    train_loss += train_step(x_[start:end], t_[start: end])\n",
        "\n",
        "    if epoch % 10 == 0 or epoch == epochs -1:\n",
        "      print('epoch: {}, loss: {:.3f}'.format(epoch+1, train_loss))\n"
      ],
      "metadata": {
        "colab": {
          "base_uri": "https://localhost:8080/"
        },
        "id": "Vn08y8v1610E",
        "outputId": "560a7adb-fb83-4fa8-80bf-0353d04450b9"
      },
      "execution_count": null,
      "outputs": [
        {
          "output_type": "stream",
          "name": "stdout",
          "text": [
            "6\n",
            "epoch: 1, loss: 38.143\n",
            "epoch: 1, loss: 49.806\n",
            "epoch: 1, loss: 69.113\n",
            "epoch: 1, loss: 69.562\n",
            "epoch: 1, loss: 69.562\n",
            "epoch: 1, loss: 69.562\n",
            "epoch: 10, loss: 0.000\n",
            "epoch: 10, loss: 0.000\n",
            "epoch: 10, loss: 0.000\n",
            "epoch: 10, loss: 0.000\n",
            "epoch: 10, loss: 0.000\n",
            "epoch: 10, loss: 0.000\n"
          ]
        }
      ]
    },
    {
      "cell_type": "markdown",
      "source": [
        "## (5)モデルの評価 "
      ],
      "metadata": {
        "id": "zVOFLQam-vyU"
      }
    },
    {
      "cell_type": "code",
      "source": [
        "x_, t_ = shuffle(x,t)\n",
        "preds = model(x_[0:5])\n",
        "classified =  np.argmax(t_[0:5], axis = 1) == np.argmax(preds[0:5], axis = 1)\n",
        "\n",
        "print('Prediction matched:', classified)"
      ],
      "metadata": {
        "colab": {
          "base_uri": "https://localhost:8080/"
        },
        "id": "I1uFH2bc9Zil",
        "outputId": "4c5cfdf9-4ec2-406a-f99b-20c381cf91a6"
      },
      "execution_count": null,
      "outputs": [
        {
          "output_type": "stream",
          "name": "stdout",
          "text": [
            "Prediction matched: [ True  True  True  True  True]\n"
          ]
        }
      ]
    },
    {
      "cell_type": "code",
      "source": [
        "print(model.w)\n",
        "print(model.b)\n"
      ],
      "metadata": {
        "colab": {
          "base_uri": "https://localhost:8080/"
        },
        "id": "4SUiVMWi_R6v",
        "outputId": "821ec314-f30e-413d-d7f7-f382a1dfe6e5"
      },
      "execution_count": null,
      "outputs": [
        {
          "output_type": "stream",
          "name": "stdout",
          "text": [
            "[[-16.89735903   6.03371763  13.7710845 ]\n",
            " [ 15.7970369    8.05488895 -22.47255384]]\n",
            "[-0.30130294  1.44559082 -1.14428788]\n"
          ]
        }
      ]
    },
    {
      "cell_type": "code",
      "source": [
        ""
      ],
      "metadata": {
        "id": "_dx1wZOZA_W3"
      },
      "execution_count": null,
      "outputs": []
    },
    {
      "cell_type": "markdown",
      "source": [
        "# 3 Muti Layer Perceptron\n",
        "## 線形分離不可能 : XORゲート, 誤差のbackpropagation\n",
        "## (1) Layer クラスの実装\n",
        "### 1 __init__ :パラメータ初期化、活性化関数設定\n",
        "### 2 forward:データの順伝搬\n",
        "### 3 backward:誤差の逆伝搬\n",
        "### 4 compute_gradients:モデル学習時の各勾配\n",
        "\n"
      ],
      "metadata": {
        "id": "-k0PlOr4huHy"
      }
    },
    {
      "cell_type": "code",
      "source": [
        "class Layer(obect):\n",
        "  def __init__(self, input_dim, output_dim, activation, dactivation):\n",
        "    #instance variables:weight. bias, 活性化関数、活性化関数の微分\n",
        "    self.w = np.random.normal(size = ()"
      ],
      "metadata": {
        "id": "LlpYzdNDi5b9"
      },
      "execution_count": null,
      "outputs": []
    }
  ],
  "metadata": {
    "accelerator": "GPU",
    "colab": {
      "name": "deep_learning_practice1.ipynb のコピー",
      "provenance": [],
      "authorship_tag": "ABX9TyNmbr+Kvg2gnDNvvvEBbUh4",
      "include_colab_link": true
    },
    "kernelspec": {
      "display_name": "Python 3",
      "name": "python3"
    },
    "language_info": {
      "name": "python"
    }
  },
  "nbformat": 4,
  "nbformat_minor": 0
}