{
  "nbformat": 4,
  "nbformat_minor": 0,
  "metadata": {
    "kernelspec": {
      "display_name": "Python 3",
      "language": "python",
      "name": "python3"
    },
    "language_info": {
      "codemirror_mode": {
        "name": "ipython",
        "version": 3
      },
      "file_extension": ".py",
      "mimetype": "text/x-python",
      "name": "python",
      "nbconvert_exporter": "python",
      "pygments_lexer": "ipython3",
      "version": "3.6.2"
    },
    "colab": {
      "name": "lecture02_homework.ipynb のコピー",
      "provenance": [],
      "collapsed_sections": [],
      "include_colab_link": true
    }
  },
  "cells": [
    {
      "cell_type": "markdown",
      "metadata": {
        "id": "view-in-github",
        "colab_type": "text"
      },
      "source": [
        "<a href=\"https://colab.research.google.com/github/dokeyuka/deep-learning-practice/blob/main/lecture02_homework_ipynb_%E3%81%AE%E3%82%B3%E3%83%94%E3%83%BC.ipynb\" target=\"_parent\"><img src=\"https://colab.research.google.com/assets/colab-badge.svg\" alt=\"Open In Colab\"/></a>"
      ]
    },
    {
      "cell_type": "markdown",
      "metadata": {
        "id": "03FTy4lwzXiQ"
      },
      "source": [
        "# 第2回講義 宿題"
      ]
    },
    {
      "cell_type": "markdown",
      "metadata": {
        "id": "JtnWqKVGzXiT"
      },
      "source": [
        "## 課題\n",
        "今Lessonで学んだことを元に、MNISTのファッション版 (Fashion MNIST、クラス数10) をソフトマックス回帰によって分類してみましょう。\n",
        "\n",
        "Fashion MNISTの詳細については以下のリンクを参考にしてください。\n",
        "\n",
        "Fashion MNIST: https://github.com/zalandoresearch/fashion-mnist"
      ]
    },
    {
      "cell_type": "markdown",
      "metadata": {
        "id": "zyD3F677zXiU"
      },
      "source": [
        "### 目標値\n",
        "Accuracy: 80%"
      ]
    },
    {
      "cell_type": "markdown",
      "metadata": {
        "id": "9pt9rMcxzXiU"
      },
      "source": [
        "### ルール\n",
        "- **下のセルで指定されている`x_train、y_train`以外の学習データは使わないでください。**\n",
        "- **ソフトマックス回帰のアルゴリズム部分の実装はnumpyのみで行ってください** (sklearnやtensorflowなどは使用しないでください)。\n",
        "    - データの前処理部分でsklearnの関数を使う (例えば `sklearn.model_selection.train_test_split`) のは問題ありません。"
      ]
    },
    {
      "cell_type": "markdown",
      "metadata": {
        "id": "2bq41q5SzXiV"
      },
      "source": [
        "### 提出方法\n",
        "- 2つのファイルを提出していただきます。\n",
        "    1. テストデータ (`x_test`) に対する予測ラベルを`submission_pred.csv`として保存し、**Homeworkタブから`Day02_0421_homework`を選択して**提出してください。\n",
        "    2. それに対応するpythonのコードを`submission_code.py`として保存し、**Homeworkタブから`Day02_0421_homework (code)`を選択して**提出してください。\n",
        "      \n",
        "- なお、採点は1で行い、2はコードの確認用として利用します（成績優秀者はコード内容を公開させていただくかもしれません）。コードの内容を変更した場合は、**1と2の両方を提出し直してください**。"
      ]
    },
    {
      "cell_type": "markdown",
      "metadata": {
        "id": "KJKR8DMtzXiW"
      },
      "source": [
        "### 評価方法\n",
        "- 予測ラベルの`y_test`に対する精度 (Accuracy) で評価します。\n",
        "- 定時に採点しLeader Boardを更新します。(採点スケジュールは別アナウンス）\n",
        "- 締切後の点数を最終的な評価とします。"
      ]
    },
    {
      "cell_type": "markdown",
      "metadata": {
        "id": "r20uRSCUzXiX"
      },
      "source": [
        "### データの読み込み (このセルは修正しないでください)"
      ]
    },
    {
      "cell_type": "code",
      "metadata": {
        "id": "OZodouZWzXiX"
      },
      "source": [
        "import os\n",
        "import sys\n",
        "from sklearn.utils import shuffle\n",
        "import numpy as np\n",
        "import pandas as pd\n",
        "\n",
        "sys.modules['tensorflow'] = None\n",
        "\n",
        "def load_fashionmnist():\n",
        "    # 学習データ\n",
        "    x_train = np.load('drive/My Drive/data/x_train.npy')\n",
        "    y_train = np.load('drive/My Drive/data/y_train.npy')\n",
        "    \n",
        "    # テストデータ\n",
        "    x_test = np.load('drive/My Drive//data/x_test.npy')\n",
        "    \n",
        "    x_train = x_train.reshape(-1, 784).astype('float32') / 255\n",
        "    y_train = np.eye(10)[y_train.astype('int32')]\n",
        "    x_test = x_test.reshape(-1, 784).astype('float32') / 255\n",
        "    \n",
        "    return x_train, y_train, x_test"
      ],
      "execution_count": 9,
      "outputs": []
    },
    {
      "cell_type": "markdown",
      "metadata": {
        "id": "mHynK8xAzXid"
      },
      "source": [
        "### ソフトマックス回帰の実装"
      ]
    },
    {
      "cell_type": "code",
      "metadata": {
        "id": "gU9E1ppuzXie",
        "colab": {
          "base_uri": "https://localhost:8080/"
        },
        "outputId": "78269349-7c24-4508-c31c-891407260011"
      },
      "source": [
        "from re import T\n",
        "x_train, y_train, x_test = load_fashionmnist()\n",
        "\n",
        "from sklearn.metrics import accuracy_score\n",
        "from sklearn.model_selection import train_test_split\n",
        "\n",
        "def softmax(x):\n",
        "    x -= x.max(axis = 1, keepdims = True)# WRITE ME\n",
        "    x_exp = np.exp(x)\n",
        "    return x_exp/np.sum(x_exp, axis = 1, keepdims = True)\n",
        "\n",
        "# weights(inout_dim = 784, output_dim = 10) \n",
        "W = np.random.uniform(low = -0.08, high = 0.08, size = (784, 10)).astype('float32')# WRITE ME\n",
        "b = np.zeros(shape = (10,)).astype('float32')# WRITE ME\n",
        "\n",
        "# 学習データと検証データに分割\n",
        "x_train, x_valid, y_train, y_valid = train_test_split(x_train, y_train, test_size=0.1)\n",
        "\n",
        "\n",
        "def np_log(x):\n",
        "  return np.log(np.clip(a=x, a_min=1e-10, a_max=1e+10))\n",
        "\n",
        "def train(x, t, eps=1.0):\n",
        "    global W, b\n",
        "\n",
        "    batch_size = x.shape[0]# WRITE ME\n",
        "    #予測\n",
        "    y_hat = softmax(np.matmul(x, W) + b)\n",
        "\n",
        "    #目的関数の評価\n",
        "    cost = (-t*np_log(y_hat)).sum(axis = 1).mean()\n",
        "    delta = y_hat -t\n",
        "\n",
        "    #パラメータ更新\n",
        "    dw = np.matmul(x.T, delta)/batch_size\n",
        "    db = np.matmul(np.ones(shape = (batch_size,)), delta)/batch_size\n",
        "    W -= eps*dw\n",
        "    b -= eps*db\n",
        "\n",
        "    return cost\n",
        "\n",
        "def valid(x, t):\n",
        "    y_hat = softmax(np.matmul(x, W) + b)# WRITE ME\n",
        "    cost = (-t*np_log(y_hat)).sum(axis = 1).mean()\n",
        "\n",
        "    return cost, y_hat\n",
        "\n",
        "for epoch in range(100):\n",
        "    x_train, y_train = shuffle(x_train, y_train)\n",
        "    cost = train(x_train, y_train)\n",
        "    cost, y_pred = valid(x_valid, y_valid)\n",
        "    if epoch % 10 == 9 or epoch == 0:\n",
        "        print('EPOCH: {}, Valid Cost: {:.3f}, Valid Accuracy: {:.3f}'.format(\n",
        "            epoch + 1,\n",
        "            cost,\n",
        "            accuracy_score(y_valid.argmax(axis=1), y_pred.argmax(axis=1))\n",
        "        ))\n",
        "    # オンライン学習\n",
        "    # WRITE ME\n",
        "\n",
        "y_pred = softmax(np.matmul(x_test, W) + b)# WRITE ME\n",
        "\n",
        "#submission = pd.Series(y_pred, name='label')\n",
        "#submission.to_csv('drive/My Drive/data/submission_pred.csv', header=True, index_label='id')"
      ],
      "execution_count": 23,
      "outputs": [
        {
          "output_type": "stream",
          "name": "stdout",
          "text": [
            "EPOCH: 1, Valid Cost: 3.785, Valid Accuracy: 0.188\n",
            "EPOCH: 10, Valid Cost: 8.263, Valid Accuracy: 0.445\n",
            "EPOCH: 20, Valid Cost: 2.283, Valid Accuracy: 0.583\n",
            "EPOCH: 30, Valid Cost: 2.538, Valid Accuracy: 0.671\n",
            "EPOCH: 40, Valid Cost: 3.350, Valid Accuracy: 0.704\n",
            "EPOCH: 50, Valid Cost: 2.429, Valid Accuracy: 0.665\n",
            "EPOCH: 60, Valid Cost: 3.011, Valid Accuracy: 0.749\n",
            "EPOCH: 70, Valid Cost: 2.180, Valid Accuracy: 0.739\n",
            "EPOCH: 80, Valid Cost: 2.749, Valid Accuracy: 0.713\n",
            "EPOCH: 90, Valid Cost: 3.811, Valid Accuracy: 0.695\n",
            "EPOCH: 100, Valid Cost: 2.464, Valid Accuracy: 0.717\n"
          ]
        }
      ]
    },
    {
      "cell_type": "code",
      "source": [
        "from google.colab import drive\n",
        "drive.mount('/content/drive')"
      ],
      "metadata": {
        "id": "1dKEIggg5518"
      },
      "execution_count": null,
      "outputs": []
    },
    {
      "cell_type": "code",
      "source": [
        "y_pred.shape"
      ],
      "metadata": {
        "colab": {
          "base_uri": "https://localhost:8080/"
        },
        "id": "3JP6K-Ru5QDD",
        "outputId": "19819731-fc94-45c2-d71d-122a8bb720ba"
      },
      "execution_count": 17,
      "outputs": [
        {
          "output_type": "execute_result",
          "data": {
            "text/plain": [
              "(10000, 10)"
            ]
          },
          "metadata": {},
          "execution_count": 17
        }
      ]
    },
    {
      "cell_type": "code",
      "source": [
        ""
      ],
      "metadata": {
        "id": "XrGCGFhXAZ4Z"
      },
      "execution_count": null,
      "outputs": []
    }
  ]
}